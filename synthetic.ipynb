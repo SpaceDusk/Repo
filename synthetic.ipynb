{
 "cells": [
  {
   "cell_type": "markdown",
   "metadata": {},
   "source": [
    "So excited to learn how to use NumPy in Jupyter Notebooks!\n",
    "NumPy is a powerful Python library that enables us to create, manipulate and analyze 3D matrix cubes of data—from subjective personal data found on social media, to objective scientific data and even financial market data. It's like having an amazing toolkit for solving complicated problems without having to learn an entirely new language. And the best part? It's totally free! So what are you waiting for? Let's get started with NumPy and see what kind of insights we can uncover!"
   ]
  },
  {
   "cell_type": "code",
   "execution_count": 4,
   "metadata": {},
   "outputs": [
    {
     "data": {
      "image/png": "[encoded data removed]",
      "text/plain": [
       "<Figure size 432x288 with 1 Axes>"
      ]
     },
     "metadata": {
      "needs_background": "light"
     },
     "output_type": "display_data"
    }
   ],
   "source": [
    "import matplotlib.pyplot as plt \n",
    "import pandas as pd \n",
    "import numpy as np \n",
    "\n",
    "# Creating a synthetic dataset with 100 samples\n",
    "num_samples = 100\n",
    "x = np.linspace(1, 10, num_samples)\n",
    "y = x + np.random.normal(0, 1, num_samples)\n",
    "\n",
    "# Creating an object with the x and y values \n",
    "data = {'x': x, \n",
    "        'y': y} \n",
    "\n",
    "# Creating the DataFrame \n",
    "df = pd.DataFrame(data) \n",
    "\n",
    "# Plotting the scatter plot \n",
    "plt.scatter(df['x'], df['y']) \n",
    "plt.title(\"Scatter plot of Synthetic Data\")\n",
    "plt.xlabel(\"x\")\n",
    "plt.ylabel(\"y\")\n",
    "plt.show()"
   ]
  },
  {
   "cell_type": "markdown",
   "metadata": {},
   "source": [
    "Import the required libraries"
   ]
  },
  {
   "cell_type": "code",
   "execution_count": 5,
   "metadata": {},
   "outputs": [],
   "source": [
    "import matplotlib.pyplot as plt \n",
    "import pandas as pd \n",
    "import numpy as np "
   ]
  },
  {
   "cell_type": "markdown",
   "metadata": {},
   "source": [
    "Create a synthetic dataset with 100 samples."
   ]
  },
  {
   "cell_type": "code",
   "execution_count": 6,
   "metadata": {},
   "outputs": [],
   "source": [
    "num_samples = 100\n",
    "x = np.linspace(1, 10, num_samples)\n",
    "y = x + np.random.normal(0, 1, num_samples)"
   ]
  },
  {
   "cell_type": "markdown",
   "metadata": {},
   "source": [
    "Create an object with the x and y values and create a DataFrame using the Pandas library."
   ]
  },
  {
   "cell_type": "code",
   "execution_count": 9,
   "metadata": {},
   "outputs": [],
   "source": [
    "data = {'x': x, \n",
    "        'y': y} \n",
    "df = pd.DataFrame(data) "
   ]
  },
  {
   "cell_type": "markdown",
   "metadata": {},
   "source": [
    "Plot the scatterplot of the data using the Matplotlib library."
   ]
  },
  {
   "cell_type": "code",
   "execution_count": 11,
   "metadata": {},
   "outputs": [
    {
     "data": {
      "image/png": "[encoded data removed]",
      "text/plain": [
       "<Figure size 432x288 with 1 Axes>"
      ]
     },
     "metadata": {
      "needs_background": "light"
     },
     "output_type": "display_data"
    }
   ],
   "source": [
    "plt.scatter(df['x'], df['y']) \n",
    "plt.title(\"Scatter plot of Synthetic Data\")\n",
    "plt.xlabel(\"x\")\n",
    "plt.ylabel(\"y\")\n",
    "plt.show()"
   ]
  },
  {
   "cell_type": "markdown",
   "metadata": {},
   "source": [
    "Use the t-test to determine if there is a significant difference between the two groups."
   ]
  },
  {
   "cell_type": "code",
   "execution_count": 12,
   "metadata": {},
   "outputs": [],
   "source": [
    "from scipy import stats\n",
    "t_test = stats.ttest_ind(df['x'], df['y'])"
   ]
  },
  {
   "cell_type": "markdown",
   "metadata": {},
   "source": [
    "If the resulting value is greater than the critical value at the specified confidence level, then we can reject the null hypothesis and conclude that there is a significant difference between the two groups."
   ]
  },
  {
   "cell_type": "code",
   "execution_count": null,
   "metadata": {},
   "outputs": [],
   "source": []
  }
 ],
 "metadata": {
  "kernelspec": {
   "display_name": "Python 3",
   "language": "python",
   "name": "python3"
  },
  "language_info": {
   "codemirror_mode": {
    "name": "ipython",
    "version": 3
   },
   "file_extension": ".py",
   "mimetype": "text/x-python",
   "name": "python",
   "nbconvert_exporter": "python",
   "pygments_lexer": "ipython3",
   "version": "3.7.3"
  }
 },
 "nbformat": 4,
 "nbformat_minor": 2
}
